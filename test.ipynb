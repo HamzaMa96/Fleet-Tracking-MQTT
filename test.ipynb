{
 "cells": [
  {
   "cell_type": "code",
   "execution_count": 1,
   "metadata": {},
   "outputs": [],
   "source": [
    "import pyodbc"
   ]
  },
  {
   "cell_type": "code",
   "execution_count": 2,
   "metadata": {},
   "outputs": [
    {
     "data": {
      "text/plain": [
       "['SQL Server',\n",
       " 'SQL Server Native Client 11.0',\n",
       " 'ODBC Driver 13 for SQL Server',\n",
       " 'SQL Server Native Client RDA 11.0',\n",
       " 'ODBC Driver 17 for SQL Server']"
      ]
     },
     "execution_count": 2,
     "metadata": {},
     "output_type": "execute_result"
    }
   ],
   "source": [
    "pyodbc.drivers()"
   ]
  },
  {
   "cell_type": "code",
   "execution_count": 4,
   "metadata": {},
   "outputs": [],
   "source": [
    "driver = 'SQL Server'\n",
    "server =  \"ARCGISDB\"\n",
    "database = 'IOT_DATA2'\n",
    "# hostname = 'localhost'\n",
    "uid = 'sa'\n",
    "pwd = 'Pa$$w0rd'"
   ]
  },
  {
   "cell_type": "code",
   "execution_count": 26,
   "metadata": {},
   "outputs": [],
   "source": [
    "conn= pyodbc.connect('driver={SQL Server}; server=ARCGISDB; database=TrackingDB; UID=sa; PWD=Pa$$w0rd;')"
   ]
  },
  {
   "cell_type": "code",
   "execution_count": 27,
   "metadata": {},
   "outputs": [],
   "source": [
    "cursor = conn.cursor()"
   ]
  },
  {
   "cell_type": "code",
   "execution_count": 30,
   "metadata": {},
   "outputs": [
    {
     "data": {
      "text/plain": [
       "<pyodbc.Cursor at 0x1d08f074930>"
      ]
     },
     "execution_count": 30,
     "metadata": {},
     "output_type": "execute_result"
    }
   ],
   "source": [
    "cursor.execute(\"select * from IOT_Data2\")"
   ]
  },
  {
   "cell_type": "code",
   "execution_count": 31,
   "metadata": {},
   "outputs": [],
   "source": [
    "data = cursor.fetchall()"
   ]
  },
  {
   "cell_type": "code",
   "execution_count": 32,
   "metadata": {},
   "outputs": [
    {
     "name": "stdout",
     "output_type": "stream",
     "text": [
      "[(1, 0, '2022-10-24 14:23:55.0000000', 1, Decimal('3.24000000'), 59, 1, Decimal('1750.40000000'), Decimal('31.27328900'), Decimal('30.04691500'), b'\\xe6\\x10\\x00\\x00\\x01\\x0cP[\\x95D\\xf6E?@0\\xb1\\x16\\x9f\\x02\\x0c>@', None), (2, 1, '2022-10-24 14:22:55.0000000', 1, Decimal('20.82000000'), 33, 1, Decimal('1204.70000000'), Decimal('31.27292900'), Decimal('30.04655500'), b'\\xe6\\x10\\x00\\x00\\x01\\x0cP!\\xc9\\xac\\xdeE?@0wJ\\x07\\xeb\\x0b>@', None), (3, 0, '2022-10-24 14:21:55.0000000', 1, Decimal('19.45000000'), 60, 1, Decimal('5508.50000000'), Decimal('31.27256900'), Decimal('30.04619500'), b'\\xe6\\x10\\x00\\x00\\x01\\x0cP\\xe7\\xfc\\x14\\xc7E?@0=~o\\xd3\\x0b>@', None), (4, 1, '2022-10-24 14:20:55.0000000', 1, Decimal('19.08000000'), 89, 0, Decimal('737.40000000'), Decimal('31.27220900'), Decimal('30.04583500'), b'\\xe6\\x10\\x00\\x00\\x01\\x0cP\\xad0}\\xafE?@0\\x03\\xb2\\xd7\\xbb\\x0b>@', None), (5, 1, '2022-10-24 14:19:55.0000000', 1, Decimal('23.41000000'), 34, 0, Decimal('80.50000000'), Decimal('31.27184900'), Decimal('30.04547500'), b'\\xe6\\x10\\x00\\x00\\x01\\x0cPsd\\xe5\\x97E?@0\\xc9\\xe5?\\xa4\\x0b>@', None)]\n"
     ]
    }
   ],
   "source": [
    "print(data[:5])"
   ]
  }
 ],
 "metadata": {
  "kernelspec": {
   "display_name": "Python 3.10.8 64-bit",
   "language": "python",
   "name": "python3"
  },
  "language_info": {
   "codemirror_mode": {
    "name": "ipython",
    "version": 3
   },
   "file_extension": ".py",
   "mimetype": "text/x-python",
   "name": "python",
   "nbconvert_exporter": "python",
   "pygments_lexer": "ipython3",
   "version": "3.10.8"
  },
  "orig_nbformat": 4,
  "vscode": {
   "interpreter": {
    "hash": "3196968d684371006099b3d55edeef8ed90365227a30deaef86e5d4aa8519be0"
   }
  }
 },
 "nbformat": 4,
 "nbformat_minor": 2
}
